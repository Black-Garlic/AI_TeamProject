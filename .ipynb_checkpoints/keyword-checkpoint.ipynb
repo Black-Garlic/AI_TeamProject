{
 "cells": [
  {
   "cell_type": "code",
   "execution_count": 1,
   "id": "59eb2803-6ecd-4fb6-8b49-94f9aa41e1bf",
   "metadata": {},
   "outputs": [
    {
     "name": "stdout",
     "output_type": "stream",
     "text": [
      "Collecting wordcloud\n",
      "  Downloading wordcloud-1.8.1-cp38-cp38-win_amd64.whl (155 kB)\n",
      "Requirement already satisfied: matplotlib in c:\\users\\hn122\\anaconda3\\lib\\site-packages (from wordcloud) (3.3.4)\n",
      "Requirement already satisfied: numpy>=1.6.1 in c:\\users\\hn122\\anaconda3\\lib\\site-packages (from wordcloud) (1.20.1)\n",
      "Requirement already satisfied: pillow in c:\\users\\hn122\\anaconda3\\lib\\site-packages (from wordcloud) (8.2.0)\n",
      "Requirement already satisfied: kiwisolver>=1.0.1 in c:\\users\\hn122\\anaconda3\\lib\\site-packages (from matplotlib->wordcloud) (1.3.1)\n",
      "Requirement already satisfied: python-dateutil>=2.1 in c:\\users\\hn122\\anaconda3\\lib\\site-packages (from matplotlib->wordcloud) (2.8.1)\n",
      "Requirement already satisfied: pyparsing!=2.0.4,!=2.1.2,!=2.1.6,>=2.0.3 in c:\\users\\hn122\\anaconda3\\lib\\site-packages (from matplotlib->wordcloud) (2.4.7)\n",
      "Requirement already satisfied: cycler>=0.10 in c:\\users\\hn122\\anaconda3\\lib\\site-packages (from matplotlib->wordcloud) (0.10.0)\n",
      "Requirement already satisfied: six in c:\\users\\hn122\\anaconda3\\lib\\site-packages (from cycler>=0.10->matplotlib->wordcloud) (1.15.0)\n",
      "Installing collected packages: wordcloud\n",
      "Successfully installed wordcloud-1.8.1\n",
      "Collecting krwordrank\n",
      "  Downloading krwordrank-1.0.3-py3-none-any.whl (20 kB)\n",
      "Requirement already satisfied: numpy>=1.18.4 in c:\\users\\hn122\\anaconda3\\lib\\site-packages (from krwordrank) (1.20.1)\n",
      "Requirement already satisfied: scikit-learn>=0.22.1 in c:\\users\\hn122\\anaconda3\\lib\\site-packages (from krwordrank) (0.24.1)\n",
      "Requirement already satisfied: scipy>=1.4.1 in c:\\users\\hn122\\anaconda3\\lib\\site-packages (from krwordrank) (1.6.2)\n",
      "Requirement already satisfied: threadpoolctl>=2.0.0 in c:\\users\\hn122\\anaconda3\\lib\\site-packages (from scikit-learn>=0.22.1->krwordrank) (2.1.0)\n",
      "Requirement already satisfied: joblib>=0.11 in c:\\users\\hn122\\anaconda3\\lib\\site-packages (from scikit-learn>=0.22.1->krwordrank) (1.0.1)\n",
      "Installing collected packages: krwordrank\n",
      "Successfully installed krwordrank-1.0.3\n"
     ]
    }
   ],
   "source": [
    "!pip install wordcloud\n",
    "!pip install krwordrank"
   ]
  },
  {
   "cell_type": "code",
   "execution_count": 1,
   "id": "b7c47746-d038-43ab-9343-37ee1957693d",
   "metadata": {},
   "outputs": [],
   "source": [
    "from krwordrank.word import KRWordRank\n",
    "from krwordrank.word import summarize_with_keywords"
   ]
  },
  {
   "cell_type": "code",
   "execution_count": 10,
   "id": "8abfe8b3-b73d-46d9-9f5a-6f067133de80",
   "metadata": {},
   "outputs": [
    {
     "name": "stdout",
     "output_type": "stream",
     "text": [
      "Lecture Num\tSection Num\\SubCategory - Lecture - Professor\n",
      "0\t\t0\t\tICT 입문 - 소프트웨어 입문 - 홍최영\n",
      "0\t\t1\t\tICT 입문 - 소프트웨어 입문 - 김헌주\n",
      "0\t\t2\t\tICT 입문 - 소프트웨어 입문 - 나대영\n",
      "0\t\t3\t\tICT 입문 - 소프트웨어 입문 - 박지현\n",
      "1\t\t0\t\t소프트웨어 활용 - 오피스 활용 - 도해영\n",
      "1\t\t1\t\t소프트웨어 활용 - 오피스 활용 - 나대영\n",
      "3\t\t0\t\t소프트웨어 활용 - 컴퓨터 그래픽 기초 - 신원석\n",
      "4\t\t0\t\t소프트웨어 활용 - 하이브리드 웹 설계 - 김군오\n",
      "5\t\t0\t\t소프트웨어 활용 - 데이터 수집과 응용 - 박지현\n",
      "6\t\t0\t\t프로그래밍 기초 - 앱 프로그래밍 - 나대영\n",
      "6\t\t1\t\t프로그래밍 기초 - 앱 프로그래밍 - 김군오\n",
      "7\t\t0\t\t프로그래밍 기초 - 파이썬 프로그래밍 - 박지현\n",
      "7\t\t1\t\t프로그래밍 기초 - 파이썬 프로그래밍 - 김경미\n",
      "8\t\t0\t\t프로그래밍 기초 - C 프로그래밍 - 최희열\n",
      "8\t\t1\t\t프로그래밍 기초 - C 프로그래밍 - 김광\n",
      "8\t\t2\t\t프로그래밍 기초 - C 프로그래밍 - 홍참길\n",
      "8\t\t3\t\t프로그래밍 기초 - C 프로그래밍 - 김호준\n",
      "8\t\t4\t\t프로그래밍 기초 - C 프로그래밍 - 용환기\n",
      "8\t\t5\t\t프로그래밍 기초 - C 프로그래밍 - 김인중\n",
      "8\t\t6\t\t프로그래밍 기초 - C 프로그래밍 - 나대영\n",
      "8\t\t7\t\t프로그래밍 기초 - C 프로그래밍 - 홍최영\n",
      "8\t\t8\t\t프로그래밍 기초 - C 프로그래밍 - 김경미\n",
      "8\t\t9\t\t프로그래밍 기초 - C 프로그래밍 - 안민규\n",
      "9\t\t0\t\t프로그래밍 기초 - R을 이용한 빅데이터 분석 - 김헌주\n"
     ]
    }
   ],
   "source": [
    "# load data\n",
    "import json\n",
    "with open(\"Review.txt\", \"r\", encoding=\"utf8\") as f:\n",
    "    contents = f.read() # string 타입\n",
    "    json_data = json.loads(contents)\n",
    "    \n",
    "topCategoryList = {\"ICT\", \"기초학문\", \"리더십 및 문제해결\", \"세계관\", \"소통 및 융복합\", \"신앙 2\", \"영어\", \"예체능\", \"외국어\", \"전공기초\", \"특론 및 개별연구\"}\n",
    "\n",
    "print('Lecture Num\\tSection Num\\SubCategory - Lecture - Professor')\n",
    "#print('%8s:\\t%.4f' % (word, r))\n",
    "for lectureNum in range(len(json_data)):\n",
    "    if (json_data[lectureNum]['topCategory'] == \"ICT\"):\n",
    "        for sectionNum in range(len(json_data[lectureNum]['sectionList'])):\n",
    "            print(lectureNum, '\\t\\t', sectionNum, '\\t\\t', json_data[lectureNum]['subCategory'], ' - ', json_data[lectureNum]['lectureName'], ' - ', json_data[lectureNum]['sectionList'][sectionNum]['professor'], sep='')"
   ]
  },
  {
   "cell_type": "code",
   "execution_count": 3,
   "id": "16836122-c7c4-4683-9982-1b332f0d4d7c",
   "metadata": {},
   "outputs": [],
   "source": [
    "review = []\n",
    "lectureNum = 0\n",
    "sectionNum = 3\n",
    "\n",
    "for i in range(len(json_data[lectureNum]['sectionList'][sectionNum]['reviewList'])):\n",
    "    review.append(json_data[lectureNum]['sectionList'][sectionNum]['reviewList'][i]['review'])"
   ]
  },
  {
   "cell_type": "code",
   "execution_count": 5,
   "id": "91b4fb37-fffc-4d26-bacf-086158528f1c",
   "metadata": {},
   "outputs": [
    {
     "name": "stdout",
     "output_type": "stream",
     "text": [
      "scan vocabs ... \n",
      "num vocabs = 4176\n",
      "done = 10\n",
      "      많이:\t17.6660\n",
      "      수업:\t16.1788\n",
      "      과제:\t13.9062\n",
      "      너무:\t12.6004\n",
      "      코딩:\t10.4481\n",
      "      나는:\t9.8725\n",
      "      매우:\t7.5315\n",
      "     하지만:\t7.4968\n",
      "      소입:\t6.6362\n",
      "     열심히:\t6.1119\n",
      "      질문:\t5.3476\n",
      "     그리고:\t5.1415\n",
      "      학생:\t5.1098\n",
      "      내가:\t5.0243\n",
      "      처음:\t4.9395\n",
      "      어려:\t4.8320\n",
      "      어렵:\t4.7496\n",
      "      중간:\t4.7300\n",
      "      힘들:\t4.4132\n",
      "      사람:\t4.1508\n",
      "      시험:\t4.0701\n",
      "     그래도:\t3.9671\n",
      "     솔직히:\t3.8902\n",
      "      생각:\t3.8700\n",
      "     컴퓨터:\t3.8639\n",
      "     각오를:\t3.7543\n",
      "     오히려:\t3.6937\n",
      "      좋은:\t3.5954\n",
      "      또한:\t3.5161\n",
      "      강의:\t3.4772\n"
     ]
    }
   ],
   "source": [
    "texts = review\n",
    "stopwords = {'교수님', '진짜', '정말'}\n",
    "keywords = summarize_with_keywords(texts, min_count=1, max_length=10,beta=0.85, max_iter=10, stopwords=stopwords, verbose=True)\n",
    "\n",
    "for word, r in sorted(keywords.items(), key=lambda x:x[1], reverse=True)[:30]:\n",
    "        print('%8s:\\t%.4f' % (word, r))"
   ]
  },
  {
   "cell_type": "code",
   "execution_count": null,
   "id": "0563f664-7478-4455-9585-bfb9d01f5931",
   "metadata": {},
   "outputs": [],
   "source": []
  }
 ],
 "metadata": {
  "kernelspec": {
   "display_name": "Python 3",
   "language": "python",
   "name": "python3"
  },
  "language_info": {
   "codemirror_mode": {
    "name": "ipython",
    "version": 3
   },
   "file_extension": ".py",
   "mimetype": "text/x-python",
   "name": "python",
   "nbconvert_exporter": "python",
   "pygments_lexer": "ipython3",
   "version": "3.8.8"
  }
 },
 "nbformat": 4,
 "nbformat_minor": 5
}
