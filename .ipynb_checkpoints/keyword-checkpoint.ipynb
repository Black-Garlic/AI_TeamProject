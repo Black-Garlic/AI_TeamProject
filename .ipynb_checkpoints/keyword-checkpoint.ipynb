{
 "cells": [
  {
   "cell_type": "code",
   "execution_count": 1,
   "id": "59eb2803-6ecd-4fb6-8b49-94f9aa41e1bf",
   "metadata": {},
   "outputs": [
    {
     "name": "stdout",
     "output_type": "stream",
     "text": [
      "Collecting wordcloud\n",
      "  Downloading wordcloud-1.8.1-cp38-cp38-win_amd64.whl (155 kB)\n",
      "Requirement already satisfied: matplotlib in c:\\users\\hn122\\anaconda3\\lib\\site-packages (from wordcloud) (3.3.4)\n",
      "Requirement already satisfied: numpy>=1.6.1 in c:\\users\\hn122\\anaconda3\\lib\\site-packages (from wordcloud) (1.20.1)\n",
      "Requirement already satisfied: pillow in c:\\users\\hn122\\anaconda3\\lib\\site-packages (from wordcloud) (8.2.0)\n",
      "Requirement already satisfied: kiwisolver>=1.0.1 in c:\\users\\hn122\\anaconda3\\lib\\site-packages (from matplotlib->wordcloud) (1.3.1)\n",
      "Requirement already satisfied: python-dateutil>=2.1 in c:\\users\\hn122\\anaconda3\\lib\\site-packages (from matplotlib->wordcloud) (2.8.1)\n",
      "Requirement already satisfied: pyparsing!=2.0.4,!=2.1.2,!=2.1.6,>=2.0.3 in c:\\users\\hn122\\anaconda3\\lib\\site-packages (from matplotlib->wordcloud) (2.4.7)\n",
      "Requirement already satisfied: cycler>=0.10 in c:\\users\\hn122\\anaconda3\\lib\\site-packages (from matplotlib->wordcloud) (0.10.0)\n",
      "Requirement already satisfied: six in c:\\users\\hn122\\anaconda3\\lib\\site-packages (from cycler>=0.10->matplotlib->wordcloud) (1.15.0)\n",
      "Installing collected packages: wordcloud\n",
      "Successfully installed wordcloud-1.8.1\n",
      "Collecting krwordrank\n",
      "  Downloading krwordrank-1.0.3-py3-none-any.whl (20 kB)\n",
      "Requirement already satisfied: numpy>=1.18.4 in c:\\users\\hn122\\anaconda3\\lib\\site-packages (from krwordrank) (1.20.1)\n",
      "Requirement already satisfied: scikit-learn>=0.22.1 in c:\\users\\hn122\\anaconda3\\lib\\site-packages (from krwordrank) (0.24.1)\n",
      "Requirement already satisfied: scipy>=1.4.1 in c:\\users\\hn122\\anaconda3\\lib\\site-packages (from krwordrank) (1.6.2)\n",
      "Requirement already satisfied: threadpoolctl>=2.0.0 in c:\\users\\hn122\\anaconda3\\lib\\site-packages (from scikit-learn>=0.22.1->krwordrank) (2.1.0)\n",
      "Requirement already satisfied: joblib>=0.11 in c:\\users\\hn122\\anaconda3\\lib\\site-packages (from scikit-learn>=0.22.1->krwordrank) (1.0.1)\n",
      "Installing collected packages: krwordrank\n",
      "Successfully installed krwordrank-1.0.3\n"
     ]
    }
   ],
   "source": [
    "!pip install krwordrank"
   ]
  },
  {
   "cell_type": "code",
   "execution_count": 1,
   "id": "b7c47746-d038-43ab-9343-37ee1957693d",
   "metadata": {},
   "outputs": [],
   "source": [
    "from krwordrank.word import KRWordRank\n",
    "from krwordrank.word import summarize_with_keywords"
   ]
  },
  {
   "cell_type": "code",
   "execution_count": 15,
   "id": "8abfe8b3-b73d-46d9-9f5a-6f067133de80",
   "metadata": {},
   "outputs": [
    {
     "name": "stdout",
     "output_type": "stream",
     "text": [
      "Lecture Num\tSection Num\tSubCategory - Lecture - Professor\n",
      "10\t\t0\t\t사회과학 - 교육학개론 - 이은실\n",
      "10\t\t1\t\t사회과학 - 교육학개론 - 황마리아나\n",
      "10\t\t2\t\t사회과학 - 교육학개론 - 김제니\n",
      "11\t\t0\t\t사회과학 - 글로벌리제이션과 한국의 대중문화 - 김창욱\n",
      "12\t\t0\t\t사회과학 - 사회학개론 - 김창욱\n",
      "13\t\t0\t\t사회과학 - 시민생활과 법 - 배준성\n",
      "14\t\t0\t\t사회과학 - 통일한국개론 - 송인호외 6명\n",
      "14\t\t1\t\t사회과학 - 통일한국개론 - 송인호외 5명\n",
      "14\t\t2\t\t사회과학 - 통일한국개론 - 박영춘외 8명\n",
      "14\t\t3\t\t사회과학 - 통일한국개론 - 송인호외 9명\n",
      "16\t\t0\t\t인문학 - 동양의 역사와 문화 - 김종건\n",
      "17\t\t0\t\t인문학 - 서양의 역사와 문화 - 남철호\n",
      "17\t\t1\t\t인문학 - 서양의 역사와 문화 - 김종건\n",
      "17\t\t2\t\t인문학 - 서양의 역사와 문화 - 이유나\n",
      "19\t\t0\t\t인문학 - 한국사(근현대사) - 류대영\n",
      "19\t\t1\t\t인문학 - 한국사(근현대사) - 정성일\n",
      "20\t\t0\t\t인문학 - 철학개론 - 손화철\n",
      "20\t\t1\t\t인문학 - 철학개론 - 김광현\n",
      "21\t\t0\t\t인문학 - 한국문학의 이해 - 김윤규\n",
      "22\t\t0\t\t인문학 - 한국의 전통문화 - 김윤규\n",
      "23\t\t0\t\t인문학 - 한국학개론 - 조정수\n",
      "24\t\t0\t\t인문학 - 현대과학과 기술의 철학 - 손화철\n",
      "25\t\t0\t\t인문학 - 한국어학개론 - 김종록\n",
      "25\t\t1\t\t인문학 - 한국어학개론 - 정지은\n",
      "26\t\t0\t\t자연과학 - Calculus 1 - 정상모\n",
      "26\t\t1\t\t자연과학 - Calculus 1 - 조예원\n",
      "26\t\t2\t\t자연과학 - Calculus 1 - 김태현\n",
      "26\t\t3\t\t자연과학 - Calculus 1 - 박효원\n",
      "26\t\t4\t\t자연과학 - Calculus 1 - 조세례요한\n",
      "26\t\t5\t\t자연과학 - Calculus 1 - 이한진\n",
      "27\t\t0\t\t자연과학 - Calculus 2 - 조현태\n",
      "27\t\t1\t\t자연과학 - Calculus 2 - 한우진\n",
      "27\t\t2\t\t자연과학 - Calculus 2 - 이한진\n",
      "27\t\t3\t\t자연과학 - Calculus 2 - 황선우\n",
      "27\t\t4\t\t자연과학 - Calculus 2 - 김성옥\n",
      "27\t\t5\t\t자연과학 - Calculus 2 - 김태희\n",
      "28\t\t0\t\t자연과학 - Calculus 3 - 김성옥\n",
      "29\t\t0\t\t자연과학 - 공학수학 - 조예원\n",
      "29\t\t1\t\t자연과학 - 공학수학 - 이한진\n",
      "30\t\t0\t\t자연과학 - 미분방정식과 응용 - 박효원\n",
      "30\t\t1\t\t자연과학 - 미분방정식과 응용 - 이처경\n",
      "31\t\t0\t\t자연과학 - 선형대수학 - 김성옥\n",
      "32\t\t0\t\t자연과학 - 통계학 - 손중권\n",
      "33\t\t0\t\t자연과학 - 물리학 1 - 조현지\n",
      "33\t\t1\t\t자연과학 - 물리학 1 - 홍경희\n",
      "34\t\t0\t\t자연과학 - 물리학 2 - 조현지\n",
      "35\t\t0\t\t자연과학 - 물리학 개론 - 유태준\n",
      "35\t\t1\t\t자연과학 - 물리학 개론 - 조현지\n",
      "36\t\t0\t\t자연과학 - 물리학 실험 1 - 조현지\n",
      "37\t\t0\t\t자연과학 - 생활 속의 생명과학 - 도형기\n",
      "37\t\t1\t\t자연과학 - 생활 속의 생명과학 - 황철원\n",
      "38\t\t0\t\t자연과학 - 일반생물학 - WilhelmHolzapfel\n",
      "38\t\t1\t\t자연과학 - 일반생물학 - 현창기외 2명\n",
      "38\t\t2\t\t자연과학 - 일반생물학 - 도명술외 3명\n",
      "38\t\t3\t\t자연과학 - 일반생물학 - 도명술외 2명\n",
      "39\t\t0\t\t자연과학 - 일반화학 - 유태준\n",
      "39\t\t1\t\t자연과학 - 일반화학 - 황철원\n",
      "40\t\t0\t\t자연과학 - 일반화학실험 - 황철원\n"
     ]
    }
   ],
   "source": [
    "# load data\n",
    "import json\n",
    "with open(\"Review.txt\", \"r\", encoding=\"utf8\") as f:\n",
    "    contents = f.read() # string 타입\n",
    "    json_data = json.loads(contents)\n",
    "    \n",
    "topCategoryList = {\"ICT\", \"기초학문\", \"리더십 및 문제해결\", \"세계관\", \"소통 및 융복합\", \"신앙 2\", \"영어\", \"예체능\", \"외국어\", \"전공기초\", \"특론 및 개별연구\"}\n",
    "\n",
    "# json_data[]\n",
    "# - topCategory\n",
    "# - subCategory\n",
    "# - lectureCode\n",
    "# - lectureName\n",
    "# - sectionList[]\n",
    "#   - sectionCode\n",
    "#   - professor\n",
    "#   - score\n",
    "#   - homework\n",
    "#   - teamProject\n",
    "#   - grade\n",
    "#   - exam\n",
    "#   - reviewList[]\n",
    "#     - star\n",
    "#     - review\n",
    "\n",
    "print('Lecture Num\\tSection Num\\tSubCategory - Lecture - Professor')\n",
    "#print('%8s:\\t%.4f' % (word, r))\n",
    "for lectureNum in range(len(json_data)):\n",
    "    if (json_data[lectureNum]['topCategory'] == \"기초학문\"):\n",
    "        for sectionNum in range(len(json_data[lectureNum]['sectionList'])):\n",
    "            print(lectureNum, '\\t\\t', sectionNum, '\\t\\t', json_data[lectureNum]['subCategory'], ' - ', json_data[lectureNum]['lectureName'], ' - ', json_data[lectureNum]['sectionList'][sectionNum]['professor'], sep='')"
   ]
  },
  {
   "cell_type": "code",
   "execution_count": 11,
   "id": "16836122-c7c4-4683-9982-1b332f0d4d7c",
   "metadata": {},
   "outputs": [],
   "source": [
    "review = []\n",
    "lectureNum = 0\n",
    "sectionNum = 0\n",
    "\n",
    "for i in range(len(json_data[lectureNum]['sectionList'][sectionNum]['reviewList'])):\n",
    "    review.append(json_data[lectureNum]['sectionList'][sectionNum]['reviewList'][i]['review'])"
   ]
  },
  {
   "cell_type": "code",
   "execution_count": 24,
   "id": "91b4fb37-fffc-4d26-bacf-086158528f1c",
   "metadata": {
    "tags": []
   },
   "outputs": [
    {
     "name": "stdout",
     "output_type": "stream",
     "text": [
      "scan vocabs ... \n",
      "num vocabs = 145\n",
      "done = 10\n",
      "교양특론 2 - 이상호.txt\n",
      "{'사람이': 3.6278619153612577, '이론': 2.834559146929413, '은퇴하셔서': 2.5315742013206677, '오피스': 2.408561072692506, '같아요.': 2.324706300597501, '아쉬운': 2.1041584496857606, '너무': 1.9583585837584838, '교수님이신것': 1.667265136488417, '쉽게내주셨어요.': 1.623153597248836, '그래서': 1.608020696797678, '많더라고요.': 1.4284120596314729, '어려웠는데': 1.4166790575570247, '잘알려주셔서': 1.0510662903079164, '찾아가면': 1.0128168602550376, '실기': 0.7524780220210425, '기달': 0.719123910804004, '시험은': 0.7018117267145315}\n",
      "     사람이:\t3.6279\n",
      "      이론:\t2.8346\n",
      "   은퇴하셔서:\t2.5316\n",
      "     오피스:\t2.4086\n",
      "    같아요.:\t2.3247\n",
      "     아쉬운:\t2.1042\n",
      "      너무:\t1.9584\n",
      "  교수님이신것:\t1.6673\n",
      "쉽게내주셨어요.:\t1.6232\n",
      "     그래서:\t1.6080\n",
      "  많더라고요.:\t1.4284\n",
      "   어려웠는데:\t1.4167\n",
      "  잘알려주셔서:\t1.0511\n",
      "    찾아가면:\t1.0128\n",
      "      실기:\t0.7525\n",
      "      기달:\t0.7191\n",
      "     시험은:\t0.7018\n"
     ]
    }
   ],
   "source": [
    "texts = review\n",
    "stopwords = {'교수님', '진짜', '정말', '그런지'}\n",
    "keywords = summarize_with_keywords(texts, min_count=1, max_length=10,beta=0.85, max_iter=10, stopwords=stopwords, verbose=True)\n",
    "\n",
    "fileName = json_data[lectureNum]['lectureName'] + ' - ' + json_data[lectureNum]['sectionList'][sectionNum]['professor'] + '.txt'\n",
    "\n",
    "# 파일 이름\n",
    "print(fileName)\n",
    "\n",
    "# 저장할 내용\n",
    "print(keywords)\n",
    "\n",
    "for word, r in sorted(keywords.items(), key=lambda x:x[1], reverse=True)[:30]:\n",
    "        print('%8s:\\t%.4f' % (word, r))"
   ]
  },
  {
   "cell_type": "code",
   "execution_count": null,
   "id": "0563f664-7478-4455-9585-bfb9d01f5931",
   "metadata": {},
   "outputs": [],
   "source": []
  }
 ],
 "metadata": {
  "kernelspec": {
   "display_name": "Python 3",
   "language": "python",
   "name": "python3"
  },
  "language_info": {
   "codemirror_mode": {
    "name": "ipython",
    "version": 3
   },
   "file_extension": ".py",
   "mimetype": "text/x-python",
   "name": "python",
   "nbconvert_exporter": "python",
   "pygments_lexer": "ipython3",
   "version": "3.8.8"
  }
 },
 "nbformat": 4,
 "nbformat_minor": 5
}
