{
 "cells": [
  {
   "cell_type": "code",
   "execution_count": 1,
   "id": "59eb2803-6ecd-4fb6-8b49-94f9aa41e1bf",
   "metadata": {},
   "outputs": [
    {
     "name": "stdout",
     "output_type": "stream",
     "text": [
      "Collecting wordcloud\n",
      "  Downloading wordcloud-1.8.1-cp38-cp38-win_amd64.whl (155 kB)\n",
      "Requirement already satisfied: matplotlib in c:\\users\\hn122\\anaconda3\\lib\\site-packages (from wordcloud) (3.3.4)\n",
      "Requirement already satisfied: numpy>=1.6.1 in c:\\users\\hn122\\anaconda3\\lib\\site-packages (from wordcloud) (1.20.1)\n",
      "Requirement already satisfied: pillow in c:\\users\\hn122\\anaconda3\\lib\\site-packages (from wordcloud) (8.2.0)\n",
      "Requirement already satisfied: kiwisolver>=1.0.1 in c:\\users\\hn122\\anaconda3\\lib\\site-packages (from matplotlib->wordcloud) (1.3.1)\n",
      "Requirement already satisfied: python-dateutil>=2.1 in c:\\users\\hn122\\anaconda3\\lib\\site-packages (from matplotlib->wordcloud) (2.8.1)\n",
      "Requirement already satisfied: pyparsing!=2.0.4,!=2.1.2,!=2.1.6,>=2.0.3 in c:\\users\\hn122\\anaconda3\\lib\\site-packages (from matplotlib->wordcloud) (2.4.7)\n",
      "Requirement already satisfied: cycler>=0.10 in c:\\users\\hn122\\anaconda3\\lib\\site-packages (from matplotlib->wordcloud) (0.10.0)\n",
      "Requirement already satisfied: six in c:\\users\\hn122\\anaconda3\\lib\\site-packages (from cycler>=0.10->matplotlib->wordcloud) (1.15.0)\n",
      "Installing collected packages: wordcloud\n",
      "Successfully installed wordcloud-1.8.1\n",
      "Collecting krwordrank\n",
      "  Downloading krwordrank-1.0.3-py3-none-any.whl (20 kB)\n",
      "Requirement already satisfied: numpy>=1.18.4 in c:\\users\\hn122\\anaconda3\\lib\\site-packages (from krwordrank) (1.20.1)\n",
      "Requirement already satisfied: scikit-learn>=0.22.1 in c:\\users\\hn122\\anaconda3\\lib\\site-packages (from krwordrank) (0.24.1)\n",
      "Requirement already satisfied: scipy>=1.4.1 in c:\\users\\hn122\\anaconda3\\lib\\site-packages (from krwordrank) (1.6.2)\n",
      "Requirement already satisfied: threadpoolctl>=2.0.0 in c:\\users\\hn122\\anaconda3\\lib\\site-packages (from scikit-learn>=0.22.1->krwordrank) (2.1.0)\n",
      "Requirement already satisfied: joblib>=0.11 in c:\\users\\hn122\\anaconda3\\lib\\site-packages (from scikit-learn>=0.22.1->krwordrank) (1.0.1)\n",
      "Installing collected packages: krwordrank\n",
      "Successfully installed krwordrank-1.0.3\n"
     ]
    }
   ],
   "source": [
    "!pip install wordcloud\n",
    "!pip install krwordrank"
   ]
  },
  {
   "cell_type": "code",
   "execution_count": 2,
   "id": "b7c47746-d038-43ab-9343-37ee1957693d",
   "metadata": {},
   "outputs": [],
   "source": [
    "from krwordrank.word import KRWordRank\n",
    "min_count = 2   # 단어의 최소 출현 빈도수 (그래프 생성 시)\n",
    "max_length = 10 # 단어의 최대 길이\n",
    "wordrank_extractor = KRWordRank(min_count=min_count, max_length=max_length)"
   ]
  },
  {
   "cell_type": "code",
   "execution_count": 9,
   "id": "91b4fb37-fffc-4d26-bacf-086158528f1c",
   "metadata": {},
   "outputs": [],
   "source": [
    "beta = 0.85    # PageRank의 decaying factor beta\n",
    "max_iter = 10\n",
    "texts = [\"저 완전 컴맹인데, 교수님께서 하나하나 다 알려주셔서 재미있게 수업 들었습니다! 과제 다 제출하고! 교수님이 알려주신대로 시험 공부 하신다면, 좋은 성적 무조건 받으실 것 같아요! 중간 1번, 기말은 2번 시험 본다는게 주요 포인트 인 것 같습니다! 저는 수업 너무 좋았고, 교수님도 너무 좋았습니다!\",\n",
    "\"엑셀, 워드, 파워포인트에 대한 기초를 확실히 다질 수 있음. 컴퓨터 과목 중 그나마 꿀이기도 한데 컴맹 중 최고컴맹이던 나는 얻어가는 게 정말 많았음. 교재 위주로 강의를 해서 교재랑 교수님 강의 열심히만 들으면 좋은 점수 충분히 가능함. 대면비대면 병행이었어서 본인은 비대면으로 수업을 들었기에 질문이 있으면 메일로 소통했음. 답장은 보통 하루안에 금방 주셨고, 글로 설명하기 어려우면 직접 영상 찍어서 보내주시기도 했음. 앞서 말했다시피 워드에 타자치는 것밖에 할 줄 모르는 상태에서 수업을 들었어서 PF신청 했는데 성적은 PD 받음. 기대없이 수강했다가 굉장히 만족하며 마무리한 수업.\",\n",
    "\"수업 질이 엄청 좋으신지는 모르겠는데 엑셀 배워옴... 열심히하면 좋음 @@@@@@전산실 컴퓨터 뻑나는거 잘하니까@@@@@@@@@@@@@@시험칠때 반드시 중간저장@@@@@@@@ A맞을거 비쁠맞음 씨발\",\n",
    "\"들을 수 있는 사람은 꼭 들었으면 하는 몇 없는 얻어가는 수업임 우용하니까 꼭 수강신청할것\",\n",
    "\"계절로 들었는데 절대평가이고, 부분 점수가 없어서 많이 힘들었어요.. 그래도 배우는 내용 자체가 실용적인 거라 도움이 되었어요.\",\n",
    "\"교수님에게 모르는거 매일보냈더니 처음에 전화로 하라고하셔서 당황스러웠는데 친절하게 답해주십니다\",\n",
    "\"계절로 들었던 사람으로써 굉장히 추천한다 성적은 상대평가로 주셨고 과제는 거의 매주차마다있긴하지만 되게 쉬웠음 시험도 과제와 비슷하게 나온다 단 컴퓨터를 못 만지는 사람은 조금 힘들다고 느낄수도 있음 (엑셀을 진짜 잘해야 함) 작성자는 컴퓨터에 관해 1도 몰라서 시험에 조금 애를 먹었지만 나름 괜찮게 나옴 점수도 되게 잘 주시는거 같음\",\n",
    "\"어렵게 봐서 피에프 신청했는데 PD가 뜸... 기왕이면 그레이드 신청하시길!! A이상 받을 수 있는 꿀과목!! 단, 과제랑 시험은 제대로 보시길\",\n",
    "\"일단 고학번이 많이 듣다보니까 상대적으로 저학번이 들으면 시간이 많아서 학점얻기가 좋은거 같습니다. 그리고 수업을 빠져도 엄청난 타격이 없어서 가장 좋은점은 바쁘면 빠질만한 수업이라는 것입니다. 과제도 엄청 어렵지않고 시험도 많이 준비할 필요없어서 그레이드가 오히려 피애프보더 더 유리할 수도 있습니다.\",\n",
    "\"일단 오피스 배운다는 것 자체가 말 다했다고 봅니다. 정말 많이 남는 수업이에요. 엑셀, 파워포인트, 워드 어느정도 다루고 싶다 하는 분들은 꼭 들으세요. 교재는 혼자 연습해보실거 아니면 안 사셔도 될거에요. 시험도 전날 ITQ 기출 몇 개 풀어보고 익히면 잘 볼 수 있구요. 과제도 쉽고 제출기한도 넉넉합니다! 무엇보다 pf 병행과목이다보니 노력하면 그레이드 잘 받으실 수 있어요. 참고로 2학점이지만 수업은 75분 하십니다.\",\n",
    "\"일단 되게 졸리다. 교수님이 과제 제출날짜에 유하시다 전산과목중에서 제일 꿀인것은 맞다\",\n",
    "\"엑셀 못하면 무조건 pf로 바꾸셈 시험 1주 전부터 공부했는데 시험 때 엑셀만 거의 나와서 멘붕 와서 한 페이지 다 풀지도 못함\",\n",
    "\"다 좋다. 근데 시험 문제를 읽을 수가 없다. 그래서 풀 수 있는 문제도 못플게 하신다. 너무 고통스러웠다.\",\n",
    "\"과제 두번, 시험 두번(중간, 기말) 있었다. 과제 한번에 문제 개수는 많지만 수업시간에 했던 내용과 웬만하면 비슷해서 피피티 참고하며 뚝딱뚝딱 하면 된다. 모르는거 있으면 인터넷에 조금만 검색해봐도 바로 나온다. 그정도 노력도 안하면서 교수님께 찡찡대는 사람들이 갑자기 기억나서 이 글을 읽고 수강하게 될 분들은 그러지 않길 바란다. 교수님이 안쓰러워 보였다. 쉽다고 무시할 수 있는데 엑셀은 결코 만만히 볼 상대가 아니다. 그럼에도 불구하고 솔직히 말해서 피피티 딱 세바퀴만 돌리면 문제 다 풀 수 있다. 그걸 안해서 문제지. 시험문제의 가독성이 정말 심각하게 안좋기 때문에 정신 똑바로 차리고 밑줄을 긋거나 체크표시 해가며 풀어야한다. 정신없이 다음문제 찾느라 헤매다보면 시간 부족하다. 필자는 과제 제때 내고 시험 2일 전부터만 피피티 두번씩 돌렸는데 A0 받았다. (기본 실력에 따라 개인차가 있을 수 있으니 참고하시길.) 부디 승리하시길 바란다.\",\n",
    "]\n",
    "keywords, rank, graph = wordrank_extractor.extract(texts, beta, max_iter)"
   ]
  },
  {
   "cell_type": "code",
   "execution_count": 10,
   "id": "7ceb6bfc-f5fe-4550-aa72-0d5164be76c9",
   "metadata": {},
   "outputs": [
    {
     "name": "stdout",
     "output_type": "stream",
     "text": [
      "      과제:\t4.7870\n",
      "      시험:\t4.3226\n",
      "     엑셀,:\t2.7589\n",
      "     수업을:\t2.4851\n",
      "     피피티:\t2.3807\n",
      "      일단:\t2.1015\n",
      "    교수님이:\t2.0893\n",
      "      들었:\t2.0548\n",
      "      많이:\t2.0228\n",
      "    바란다.:\t1.6558\n",
      "      너무:\t1.6132\n",
      "      문제:\t1.4814\n",
      "      있는:\t1.4664\n",
      "     성적은:\t1.4655\n",
      "     계절로:\t1.4545\n",
      "     무조건:\t1.4313\n",
      "    그레이드:\t1.4193\n",
      "     컴퓨터:\t1.4015\n",
      "      pf:\t1.3884\n",
      "     들으면:\t1.3785\n",
      "     있으면:\t1.3718\n",
      "      좋은:\t1.3237\n",
      "      강의:\t1.3192\n",
      "      조금:\t1.3005\n",
      "      공부:\t1.2990\n",
      "      엄청:\t1.2027\n",
      "    모르는거:\t1.1515\n",
      "      되게:\t1.1416\n",
      "      워드:\t1.1216\n",
      "      정말:\t1.1084\n"
     ]
    }
   ],
   "source": [
    "for word, r in sorted(keywords.items(), key=lambda x:x[1], reverse=True)[:30]:\n",
    "        print('%8s:\\t%.4f' % (word, r))"
   ]
  },
  {
   "cell_type": "code",
   "execution_count": null,
   "id": "019a0658-9975-464e-adb5-decc5497063d",
   "metadata": {},
   "outputs": [],
   "source": []
  }
 ],
 "metadata": {
  "kernelspec": {
   "display_name": "Python 3",
   "language": "python",
   "name": "python3"
  },
  "language_info": {
   "codemirror_mode": {
    "name": "ipython",
    "version": 3
   },
   "file_extension": ".py",
   "mimetype": "text/x-python",
   "name": "python",
   "nbconvert_exporter": "python",
   "pygments_lexer": "ipython3",
   "version": "3.8.8"
  }
 },
 "nbformat": 4,
 "nbformat_minor": 5
}
